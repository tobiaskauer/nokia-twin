{
 "cells": [
  {
   "cell_type": "code",
   "execution_count": 9,
   "metadata": {},
   "outputs": [],
   "source": [
    "import pandas as pd\n",
    "import sqlalchemy"
   ]
  },
  {
   "cell_type": "code",
   "execution_count": 14,
   "metadata": {},
   "outputs": [],
   "source": [
    "#example csv at https://docs.google.com/spreadsheets/d/1QhjE27TJ-AiFbC4pea39ajy_l-iAAVDUKoBIDMpoMFE/edit?usp=sharing\n",
    "table = \"example\"\n",
    "data = pd.read_csv('example_data.csv')\n",
    "display = pd.read_csv('example_display.csv')\n",
    "events = pd.read_csv('example_events.csv')\n",
    "\n",
    "#parse a given date to datetime\n",
    "data['date'] = pd.to_datetime(data['date'], infer_datetime_format=True) \n",
    "events['date'] = pd.to_datetime(events['date'], infer_datetime_format=True) \n",
    "\n",
    "\n",
    "#ignore everthing that's not a filter, metric or date or weight\n",
    "filters = [x for x in data.columns if x.startswith('filter_')] \n",
    "metrics = [x for x in data.columns if x.startswith('metric_')]\n",
    "filtered_data = data[['date'] + ['weight'] + filters + metrics ]"
   ]
  },
  {
   "cell_type": "code",
   "execution_count": 15,
   "metadata": {},
   "outputs": [],
   "source": [
    "#setup connection\n",
    "host = \"goodcitylife.org\"\n",
    "user = \"dquercia_twin\"\n",
    "password = \"&Ta15WOr1ZX@\"\n",
    "database = \"dquercia_nokiatwin\"\n",
    "data_table = table+\"_data\"\n",
    "display_table= table+\"_display\"\n",
    "events_table= table+\"_events\"\n",
    "\n",
    "engine = sqlalchemy.create_engine('mysql+mysqlconnector://'+user+':'+password+'@'+host+'/'+database)\n",
    "\n",
    "#write new database to db\n",
    "#OVERWRITES EXISTING TABLES\n",
    "\n",
    "filtered_data.to_sql(con=engine, name=data_table, if_exists='replace',dtype={\"date\": sqlalchemy.types.DateTime()})\n",
    "events.to_sql(con=engine, name=events_table, if_exists='replace',dtype={\"date\": sqlalchemy.types.DateTime()})\n",
    "display.to_sql(con=engine,name=display_table,if_exists='replace')"
   ]
  },
  {
   "cell_type": "code",
   "execution_count": null,
   "metadata": {},
   "outputs": [],
   "source": []
  },
  {
   "cell_type": "code",
   "execution_count": null,
   "metadata": {},
   "outputs": [],
   "source": []
  }
 ],
 "metadata": {
  "kernelspec": {
   "display_name": "Python 3",
   "language": "python",
   "name": "python3"
  },
  "language_info": {
   "codemirror_mode": {
    "name": "ipython",
    "version": 3
   },
   "file_extension": ".py",
   "mimetype": "text/x-python",
   "name": "python",
   "nbconvert_exporter": "python",
   "pygments_lexer": "ipython3",
   "version": "3.7.3"
  }
 },
 "nbformat": 4,
 "nbformat_minor": 4
}
